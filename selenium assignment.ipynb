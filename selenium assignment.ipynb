{
 "cells": [
  {
   "cell_type": "code",
   "execution_count": null,
   "id": "f7f0e10c",
   "metadata": {},
   "outputs": [],
   "source": [
    "!pip install selenium"
   ]
  },
  {
   "cell_type": "code",
   "execution_count": null,
   "id": "899acac5",
   "metadata": {},
   "outputs": [],
   "source": [
    "import selenium\n",
    "import pandas as pd\n",
    "import warnings\n",
    "warnings.filterwarnings('ignore')\n",
    "from selenium import webdriver\n",
    "from selenium.webdriver.common.by import By"
   ]
  },
  {
   "cell_type": "code",
   "execution_count": null,
   "id": "6cb505c1",
   "metadata": {},
   "outputs": [],
   "source": [
    "driver=webdriver.Chrome()"
   ]
  },
  {
   "cell_type": "code",
   "execution_count": null,
   "id": "9cd8a99f",
   "metadata": {},
   "outputs": [],
   "source": [
    "driver.get('https://www.naukri.com/')"
   ]
  },
  {
   "cell_type": "code",
   "execution_count": null,
   "id": "73f8f204",
   "metadata": {},
   "outputs": [],
   "source": [
    "designation=driver.find_element(By.CLASS_NAME,'suggestor-input')\n",
    "designation.send_keys('Data Scientist')"
   ]
  },
  {
   "cell_type": "code",
   "execution_count": null,
   "id": "9ca0da31",
   "metadata": {},
   "outputs": [],
   "source": [
    "search=driver.find_element(By.CLASS_NAME,'qsbSubmit')\n",
    "search.click()"
   ]
  },
  {
   "cell_type": "code",
   "execution_count": null,
   "id": "8e3a28a2",
   "metadata": {},
   "outputs": [],
   "source": [
    "job_title=[]\n",
    "job_location=[]\n",
    "company=[]\n",
    "exp_req=[]\n",
    "title_tags=driver.find_elements(By.XPATH,'//div[@class=\"cust-job-tuple layout-wrapper lay-2 sjw__tuple \"]/div/a')\n",
    "for i in title_tags:\n",
    "    title=i.text\n",
    "    job_title.append(title)\n",
    "        \n",
    "location_tags=driver.find_elements(By.XPATH,'//span[@class=\"locWdth\"]')\n",
    "for i in location_tags:\n",
    "    location=i.text\n",
    "    job_location.append(location)\n",
    "company_tags=driver.find_elements(By.XPATH,'//div[@class=\" row2\"]/span/a[1]')\n",
    "for i in company_tags:\n",
    "    companys=i.text\n",
    "    company.append(companys)\n",
    "exp_tags=driver.find_elements(By.XPATH,'//span[@class=\"expwdth\"]')\n",
    "for i in exp_tags:\n",
    "    exp=i.text\n",
    "    exp_req.append(exp)\n",
    "dic=pd.DataFrame({'Job_Title':job_title,'Job_Location':job_location,'Company_Name':company,'Exp_Req':exp_req})\n",
    "dic\n",
    "\n",
    "p=dic.head(10)\n",
    "\n",
    "s=dic.iloc[0:10]\n",
    "s"
   ]
  },
  {
   "cell_type": "markdown",
   "id": "2a3465d4",
   "metadata": {},
   "source": [
    "Q2: Write a python program to scrape data for “Data Scientist” Job position in “Bangalore” location. You have to scrape the job-title, job-location, company_name, experience_required. You have to scrape first 10 jobs data.\n",
    "This task will be done in following steps:\n",
    "1. First get the webpage https://www.shine.com/\n",
    "2. Enter “Data Analyst” in “Job title, Skills” field and enter “Bangalore” in “enter the location” field.\n",
    "3. Then click the searchbutton.\n",
    "4. Then scrape the data for the first 10 jobs results you get.\n",
    "5. Finally create a dataframe of the scraped data."
   ]
  },
  {
   "cell_type": "code",
   "execution_count": null,
   "id": "8a1efe7d",
   "metadata": {},
   "outputs": [],
   "source": [
    "driver=webdriver.Chrome()"
   ]
  },
  {
   "cell_type": "code",
   "execution_count": null,
   "id": "ae9cc080",
   "metadata": {},
   "outputs": [],
   "source": [
    "driver.get('https://www.shine.com/')"
   ]
  },
  {
   "cell_type": "code",
   "execution_count": null,
   "id": "de057f18",
   "metadata": {},
   "outputs": [],
   "source": [
    "title=driver.find_element(By.XPATH,'/html/body/div/div[4]/div/div[2]/div[2]/div/form/div/div[1]/ul/li[1]/div/input')\n",
    "title.send_keys(\"Data Analyst\")"
   ]
  },
  {
   "cell_type": "code",
   "execution_count": null,
   "id": "093a6860",
   "metadata": {},
   "outputs": [],
   "source": [
    "loc=driver.find_element(By.XPATH,'/html/body/div/div[4]/div/div[2]/div[2]/div/form/div/div[1]/ul/li[2]/div/input')\n",
    "loc.send_keys('Bangalore')"
   ]
  },
  {
   "cell_type": "code",
   "execution_count": null,
   "id": "c9ff1cf9",
   "metadata": {},
   "outputs": [],
   "source": [
    "search=driver.find_element(By.XPATH,'/html/body/div/div[4]/div/div[2]/div[2]/div/form/div/div[2]/div/button')\n",
    "search.click()"
   ]
  },
  {
   "cell_type": "code",
   "execution_count": null,
   "id": "b0b4cb9a",
   "metadata": {},
   "outputs": [],
   "source": [
    "Title=[]\n",
    "company=[]\n",
    "Location=[]\n",
    "Experience=[]\n",
    "start=0\n",
    "end=4\n",
    "for i in range(start,end):\n",
    "    title_tag=driver.find_elements(By.XPATH,'//div[@class=\"jobCard_jobCard__jjUmu active white-box-border jobCard\"]/div/h2/a')\n",
    "    for i in title_tag:\n",
    "        s=i.text\n",
    "        Title.append(s)\n",
    "    loc_tag=driver.find_elements(By.XPATH,'//div[@class=\"jobCard_jobCard_cName__mYnow\"]/span')\n",
    "    for i in loc_tag:\n",
    "        l=i.text\n",
    "        company.append(l)\n",
    "    \n",
    "    location=driver.find_elements(By.CLASS_NAME,'jobCard_jobCard_lists_item__YxRkV jobCard_locationIcon__zrWt2')\n",
    "    for i in location:\n",
    "        loc=i.text\n",
    "        Location.append(loc)\n",
    "    \n",
    "    exp=driver.find_elements(By.CLASS_NAME,'jobCard_jobCard_lists_item__YxRkV jobCard_jobIcon__3FB1t')\n",
    "    for i in exp:\n",
    "        expe=i.text\n",
    "        Exp.append(expe)\n",
    "        \n",
    "next_button=driver.find_element(By.XPATH,'/html/body/div[1]/div[2]/div[4]/div/div[2]/div[2]/a[6]')\n",
    "next_button.click()\n",
    "time.sleep(4)\n",
    "\n",
    "dic=pd.DataFrame({'Title':Title,'company':company,'Location':Location,'Experience':Experience})\n",
    "dic\n",
    "        \n",
    "    \n",
    "\n",
    "    \n",
    "    "
   ]
  },
  {
   "cell_type": "markdown",
   "id": "bd17ec4b",
   "metadata": {},
   "source": [
    "Q3: Scrape 100 reviews data from flipkart.com for iphone11 phone. You have to go the link: https://www.flipkart.com/apple-iphone-11-black-64-gb/product-reviews/itm4e5041ba101fd?pid=MOBFWQ6BXGJCEYNY&lid=LSTMOBFWQ6BXGJCEYNYZXSHRJ&marketplace=FLIPKART\n",
    "            \n",
    "            As shown in the above page you have to scrape the tick marked attributes. These are:\n",
    "1. Rating\n",
    "2. Review summary\n",
    "3. Full review\n",
    "4. You have to scrape this data for first 100reviews."
   ]
  },
  {
   "cell_type": "code",
   "execution_count": null,
   "id": "ee8d3db4",
   "metadata": {},
   "outputs": [],
   "source": [
    "driver=webdriver.Chrome()"
   ]
  },
  {
   "cell_type": "code",
   "execution_count": null,
   "id": "dbdd3a32",
   "metadata": {},
   "outputs": [],
   "source": [
    "driver.get(\" https://www.flipkart.com/apple-iphone-11-black-64-gb/product-reviews/itm4e5041ba101fd?pid=MOBFWQ6BXGJCEYNY&lid=LSTMOBFWQ6BXGJCEYNYZXSHRJ&marketplace=FLIPKART\")"
   ]
  },
  {
   "cell_type": "code",
   "execution_count": null,
   "id": "f55b955f",
   "metadata": {},
   "outputs": [],
   "source": [
    "import time\n",
    "Rating=[]\n",
    "review_summary=[]\n",
    "rev=[]\n",
    "start=0\n",
    "end=10\n",
    "for i in range(start,end):\n",
    "    review_tag=driver.find_elements(By.XPATH,'//div[@class=\"col _2wzgFH K0kLPL\"]/div[1]/div')\n",
    "    for i in review_tag:\n",
    "        rating=i.text\n",
    "        Rating.append(rating)\n",
    "    sum_tag=driver.find_elements(By.CLASS_NAME,\"_2-N8zT\")\n",
    "    for i in sum_tag:\n",
    "        rating=i.text\n",
    "        review_summary.append(rating)\n",
    "    sumr=driver.find_elements(By.CLASS_NAME,'t-ZTKy')\n",
    "    for i in sumr:\n",
    "        reviw=i.text\n",
    "        rev.append(reviw)\n",
    "next_button=driver.find_element(By.XPATH,'/html/body/div/div/div[3]/div/div/div[2]/div[13]/div/div/nav/a[11]')\n",
    "next_button.click()\n",
    "time.sleep(10)\n",
    "dic=pd.DataFrame({'Rating':Rating,'Review summary':review_summary,'rev':rev})\n",
    "dic"
   ]
  },
  {
   "cell_type": "markdown",
   "id": "864d9df3",
   "metadata": {},
   "source": [
    "Q4: Scrape data for first 100 sneakers you find when you visit flipkart.com and search for “sneakers” in the search field.\n",
    "You have to scrape 3 attributes of each sneaker:\n",
    "1. Brand\n",
    "2. Product Description\n",
    "3. Price\n",
    "As shown in the below image, you have to scrape the above attributes."
   ]
  },
  {
   "cell_type": "code",
   "execution_count": null,
   "id": "c911ac23",
   "metadata": {},
   "outputs": [],
   "source": [
    "import time\n",
    "Brand=[]\n",
    "Product_Description=[]\n",
    "Price=[]\n",
    "start=0\n",
    "end=3\n",
    "for i in range(start,end):\n",
    "    brand_tag=driver.find_elements(By.CLASS_NAME,'_2WkVRV')\n",
    "    for i in brand_tag:\n",
    "        b=i.text\n",
    "        Brand.append(b)\n",
    "    pd_tag=driver.find_elements(By.CLASS_NAME,'IRpwTa')\n",
    "    for i in pd_tag:\n",
    "        p=i.text\n",
    "        Product_Description.append(p)\n",
    "    price_tag=driver.find_elements(By.CLASS_NAME,'_30jeq3')\n",
    "    for i in price_tag:\n",
    "        pri=i.text\n",
    "        Price.append(pri)\n",
    "next_button=driver.find_element(By.CLASS_NAME,'_1LKTO3')\n",
    "next_button.click()\n",
    "time.sleep(3)\n",
    "dic=pd.DataFrame({'Brand':Brand,'Product_Description':Product_Description,\"Price\":Price})\n",
    "dic"
   ]
  },
  {
   "cell_type": "code",
   "execution_count": null,
   "id": "967092f2",
   "metadata": {},
   "outputs": [],
   "source": []
  }
 ],
 "metadata": {
  "kernelspec": {
   "display_name": "Python 3 (ipykernel)",
   "language": "python",
   "name": "python3"
  },
  "language_info": {
   "codemirror_mode": {
    "name": "ipython",
    "version": 3
   },
   "file_extension": ".py",
   "mimetype": "text/x-python",
   "name": "python",
   "nbconvert_exporter": "python",
   "pygments_lexer": "ipython3",
   "version": "3.11.4"
  }
 },
 "nbformat": 4,
 "nbformat_minor": 5
}
