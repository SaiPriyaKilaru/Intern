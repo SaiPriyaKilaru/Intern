{
 "cells": [
  {
   "cell_type": "markdown",
   "id": "06b2fefc",
   "metadata": {},
   "source": [
    "1. Scrape the details of most viewed videos on YouTube from Wikipedia. Url = https://en.wikipedia.org/wiki/List_of_most-viewed_YouTube_videos You need to find following details: A) Rank\n",
    "B) Name\n",
    "C) Artist\n",
    "D) Upload date\n",
    "E) Views"
   ]
  },
  {
   "cell_type": "code",
   "execution_count": null,
   "id": "7c10715f",
   "metadata": {},
   "outputs": [],
   "source": [
    "import pandas as pd\n",
    "import numpy as np\n",
    "import selenium\n",
    "from selenium import webdriver\n",
    "from selenium.webdriver.common.by import By\n",
    "import warnings\n",
    "warnings.filterwarnings('ignore')\n",
    "from selenium.common.exceptions import NoSuchElementException\n",
    "import time"
   ]
  },
  {
   "cell_type": "code",
   "execution_count": null,
   "id": "1d34870d",
   "metadata": {},
   "outputs": [],
   "source": [
    "driver=webdriver.Chrome()\n"
   ]
  },
  {
   "cell_type": "code",
   "execution_count": null,
   "id": "81f8b6f6",
   "metadata": {},
   "outputs": [],
   "source": [
    "driver.get('https://en.wikipedia.org/wiki/List_of_most-viewed_YouTube_videos')"
   ]
  },
  {
   "cell_type": "code",
   "execution_count": null,
   "id": "11a6873f",
   "metadata": {},
   "outputs": [],
   "source": [
    "table=driver.find_elements(By.XPATH,'/html/body/div[2]/div/div[3]/main/div[3]/div[3]/div[1]/table[2]/tbody')"
   ]
  },
  {
   "cell_type": "code",
   "execution_count": null,
   "id": "1bad0d05",
   "metadata": {},
   "outputs": [],
   "source": [
    "Name=[]\n",
    "Artist=[]\n",
    "Upload_date=[]\n",
    "Views=[]\n",
    "\n",
    "name_tag=driver.find_elements(By.XPATH,'//table[@class=\"sortable wikitable sticky-header static-row-numbers sort-under col3center col4right jquery-tablesorter\"]/tbody/tr/td[1]')\n",
    "try:\n",
    "    for i in name_tag:\n",
    "        r=i.text\n",
    "        Name.append(r)\n",
    "except NoSuchElementException:\n",
    "    Name.append(\"-\")\n",
    "Artist_tag=driver.find_elements(By.XPATH,'//table[@class=\"sortable wikitable sticky-header static-row-numbers sort-under col3center col4right jquery-tablesorter\"]/tbody/tr/td[2]')\n",
    "try:\n",
    "    for i in Artist_tag:\n",
    "        r=i.text\n",
    "        Artist.append(r)\n",
    "except NoSuchElementException:\n",
    "    Artist.append(\"-\")\n",
    "date_tag=driver.find_elements(By.XPATH,'//table[@class=\"sortable wikitable sticky-header static-row-numbers sort-under col3center col4right jquery-tablesorter\"]/tbody/tr/td[4]')\n",
    "try:\n",
    "    for i in date_tag:\n",
    "        r=i.text\n",
    "        Upload_date.append(r)\n",
    "except NoSuchElementException:\n",
    "    Upload_date.append(\"-\")\n",
    "    \n",
    "views_tag=driver.find_elements(By.XPATH,'//table[@class=\"sortable wikitable sticky-header static-row-numbers sort-under col3center col4right jquery-tablesorter\"]/tbody/tr/td[3]')\n",
    "try:\n",
    "    for i in views_tag:\n",
    "        r=i.text\n",
    "        Views.append(r)\n",
    "except NoSuchElementException:\n",
    "    Views.append(\"-\")"
   ]
  },
  {
   "cell_type": "code",
   "execution_count": null,
   "id": "87a730ab",
   "metadata": {},
   "outputs": [],
   "source": [
    "len(Views),len(Name),len(Artist),len(Upload_date)"
   ]
  },
  {
   "cell_type": "code",
   "execution_count": null,
   "id": "2e098512",
   "metadata": {},
   "outputs": [],
   "source": [
    "pd.DataFrame({'Name':Name,'Artist':Artist,'Upload_date':Upload_date,'Views':Views})"
   ]
  },
  {
   "cell_type": "markdown",
   "id": "5bf87b25",
   "metadata": {},
   "source": [
    "2. Scrape the details team India’s international fixtures from bcci.tv.\n",
    "Url = https://www.bcci.tv/.\n",
    "You need to find following details:\n",
    "A) Series\n",
    "B) Place\n",
    "C) Date\n",
    "D) Time\n",
    "Note: - From bcci.tv home page you have reach to the international fixture page through code."
   ]
  },
  {
   "cell_type": "code",
   "execution_count": null,
   "id": "0681826e",
   "metadata": {},
   "outputs": [],
   "source": [
    "driver=webdriver.Chrome()"
   ]
  },
  {
   "cell_type": "code",
   "execution_count": null,
   "id": "6574cf5f",
   "metadata": {},
   "outputs": [],
   "source": [
    "driver.get(\"https://www.bcci.tv/\")"
   ]
  },
  {
   "cell_type": "code",
   "execution_count": null,
   "id": "9fec8fdf",
   "metadata": {},
   "outputs": [],
   "source": [
    "seeall=driver.find_element(By.XPATH,'/html/body/div[6]/div[1]/div/div/div[2]/div/div[2]/div/div[1]/div[1]/a')\n",
    "seeall.click()\n",
    "time.sleep(3)\n"
   ]
  },
  {
   "cell_type": "code",
   "execution_count": null,
   "id": "ed0d6e83",
   "metadata": {},
   "outputs": [],
   "source": [
    "Series=[]\n",
    "Place=[]\n",
    "Time=[]\n",
    "Date=[]\n"
   ]
  },
  {
   "cell_type": "code",
   "execution_count": null,
   "id": "571d1c00",
   "metadata": {},
   "outputs": [],
   "source": [
    "series_tag=driver.find_elements(By.XPATH,'//h5[@class=\"match-tournament-name ng-binding\"]')\n",
    "for i in series_tag:\n",
    "    r=i.text\n",
    "    Series.append(r)\n",
    "    \n",
    "place_tag=driver.find_elements(By.XPATH,'//div[@class=\"match-place ng-scope\"]')\n",
    "for i in place_tag:\n",
    "    p=i.text\n",
    "    Place.append(p)\n",
    "    \n",
    "date_tag=driver.find_elements(By.XPATH,'//div[@class=\"match-date-info\"]/div[1]')\n",
    "for i in date_tag:\n",
    "    s=i.text\n",
    "    Date.append(s)\n",
    "    \n",
    "time_tag=driver.find_elements(By.XPATH,'//div[@class=\"match-date-info\"]/div[2]')\n",
    "for i in time_tag:\n",
    "    p=i.text\n",
    "    Time.append(p)"
   ]
  },
  {
   "cell_type": "code",
   "execution_count": null,
   "id": "fe1053c4",
   "metadata": {},
   "outputs": [],
   "source": [
    "pd.DataFrame({'Series':Series,'Place':Place,'Time':Time,'Date':Date})"
   ]
  },
  {
   "cell_type": "markdown",
   "id": "69c614fc",
   "metadata": {},
   "source": [
    "3. Scrape the details of State-wise GDP of India from statisticstime.com.\n",
    "Url = http://statisticstimes.com/\n",
    "You have to find following details: A) Rank\n",
    "B) State\n",
    "C) GSDP(18-19)- at current prices\n",
    "D) GSDP(19-20)- at current prices\n",
    "E) Share(18-19)\n",
    "F) GDP($ billion)\n",
    "Note: - From statisticstimes home page you have to reach to economy page through code."
   ]
  },
  {
   "cell_type": "code",
   "execution_count": null,
   "id": "8d0498ee",
   "metadata": {},
   "outputs": [],
   "source": [
    "driver=webdriver.Chrome()"
   ]
  },
  {
   "cell_type": "code",
   "execution_count": null,
   "id": "f32cb5d6",
   "metadata": {},
   "outputs": [],
   "source": [
    "driver.get('http://statisticstimes.com/')"
   ]
  },
  {
   "cell_type": "code",
   "execution_count": null,
   "id": "c8f85369",
   "metadata": {},
   "outputs": [],
   "source": [
    "readmore=driver.find_element(By.XPATH,'/html/body/div[2]/div[2]/div[1]/div[2]/p[2]/a')\n",
    "readmore.click()\n",
    "time.sleep(5)"
   ]
  },
  {
   "cell_type": "code",
   "execution_count": null,
   "id": "d7fba023",
   "metadata": {},
   "outputs": [],
   "source": [
    "india=driver.find_element(By.XPATH,'/html/body/div[3]/div[2]/div[5]/div[1]/div/table/tbody/tr[11]/td[1]/a')\n",
    "#india.send_keys(\"India\")\n",
    "india.click()\n",
    "time.sleep(3)"
   ]
  },
  {
   "cell_type": "code",
   "execution_count": null,
   "id": "8dbf63d4",
   "metadata": {},
   "outputs": [],
   "source": [
    "india=driver.find_elements(By.XPATH,'/html/body/div[3]/div[2]/div[5]/div[1]/div/table/tbody/tr[11]/td[1]/a')\n",
    "for i in india:\n",
    "    if i=='India':\n",
    "        i.click()"
   ]
  },
  {
   "cell_type": "code",
   "execution_count": null,
   "id": "1e21539e",
   "metadata": {},
   "outputs": [],
   "source": [
    "indiagdp=driver.find_element(By.XPATH,'/html/body/div[3]/div[2]/div[2]/div[5]/ul/li[6]/a')\n",
    "indiagdp.click()\n",
    "time.sleep(3)"
   ]
  },
  {
   "cell_type": "code",
   "execution_count": null,
   "id": "a9a408d3",
   "metadata": {},
   "outputs": [],
   "source": [
    "Rank=[]\n",
    "State=[]\n",
    "GSDP19current=[]\n",
    "GSDP20current=[]\n",
    "Share19=[]\n",
    "GDP_billion=[]"
   ]
  },
  {
   "cell_type": "code",
   "execution_count": null,
   "id": "4c4a1546",
   "metadata": {},
   "outputs": [],
   "source": [
    "state=driver.find_elements(By.XPATH,'//div[@class=\"dataTables_wrapper\"]/table/tbody[1]/tr/td[2]')\n",
    "for i in state:\n",
    "    p=i.text\n",
    "    State.append(p)"
   ]
  },
  {
   "cell_type": "code",
   "execution_count": null,
   "id": "a24bfc1c",
   "metadata": {},
   "outputs": [],
   "source": [
    "len(GSDP19current)"
   ]
  },
  {
   "cell_type": "code",
   "execution_count": null,
   "id": "42f19319",
   "metadata": {},
   "outputs": [],
   "source": [
    "gsd=driver.find_elements(By.XPATH,'//div[@class=\"dataTables_wrapper\"]/table/tbody[1]/tr/td[7]')\n",
    "for i in gsd:\n",
    "    f=i.text\n",
    "    GSDP19current.append(f)"
   ]
  },
  {
   "cell_type": "code",
   "execution_count": null,
   "id": "a5da20d5",
   "metadata": {},
   "outputs": [],
   "source": [
    "rank=driver.find_elements(By.XPATH,'//div[@class=\"dataTables_wrapper\"]/table/tbody[1]/tr/td[1]')\n",
    "for i in rank:\n",
    "    d=i.text\n",
    "    Rank.append(d)"
   ]
  },
  {
   "cell_type": "code",
   "execution_count": null,
   "id": "79b3faa2",
   "metadata": {},
   "outputs": [],
   "source": [
    "gsd2=driver.find_elements(By.XPATH,'//div[@class=\"dataTables_wrapper\"]/table/tbody[1]/tr/td[7]')\n",
    "for i in gsd:\n",
    "    f=i.text\n",
    "    GSDP20current.append(f)"
   ]
  },
  {
   "cell_type": "code",
   "execution_count": null,
   "id": "a60c16d2",
   "metadata": {},
   "outputs": [],
   "source": [
    "pd.DataFrame({'Rank':Rank,'State':State,'GSDP19current':GSDP19current,'GSDP20current':GSDP20current,'Share19':Share19,'GDP_billion':GDP_billion})"
   ]
  },
  {
   "cell_type": "code",
   "execution_count": null,
   "id": "587554bf",
   "metadata": {},
   "outputs": [],
   "source": []
  },
  {
   "cell_type": "markdown",
   "id": "6ca44abc",
   "metadata": {},
   "source": [
    "4. Scrape the details of trending repositories on Github.com.\n",
    "Url = https://github.com/\n",
    "You have to find the following details:\n",
    "A) Repository title\n",
    "B) Repository description\n",
    "C) Contributors count\n",
    "D) Language used"
   ]
  },
  {
   "cell_type": "code",
   "execution_count": null,
   "id": "491ba2e9",
   "metadata": {},
   "outputs": [],
   "source": [
    "driver=webdriver.Chrome()"
   ]
  },
  {
   "cell_type": "code",
   "execution_count": null,
   "id": "d195d1a9",
   "metadata": {},
   "outputs": [],
   "source": [
    "driver.get('https://github.com/')"
   ]
  },
  {
   "cell_type": "code",
   "execution_count": null,
   "id": "b08ee274",
   "metadata": {},
   "outputs": [],
   "source": [
    "signin=driver.find_element(By.XPATH,'/html/body/div[1]/div[1]/header/div/div[1]/div[1]/a')\n",
    "signin.click()\n",
    "time.sleep(3)"
   ]
  },
  {
   "cell_type": "code",
   "execution_count": null,
   "id": "a9360ee3",
   "metadata": {},
   "outputs": [],
   "source": [
    "email=driver.find_element(By.XPATH,'/html/body/div[1]/div[3]/main/div/div[4]/form/input[2]')\n",
    "email.send_keys(\"babysaipriya1112@gmail.com\")"
   ]
  },
  {
   "cell_type": "code",
   "execution_count": null,
   "id": "080b3c24",
   "metadata": {},
   "outputs": [],
   "source": [
    "password=driver.find_element(By.XPATH,'/html/body/div[1]/div[3]/main/div/div[4]/form/div/input[1]')\n",
    "password.send_keys(\"FJ6hLJQc93ChJCk\")"
   ]
  },
  {
   "cell_type": "code",
   "execution_count": null,
   "id": "2223906f",
   "metadata": {},
   "outputs": [],
   "source": [
    "submit=driver.find_element(By.XPATH,'/html/body/div[1]/div[3]/main/div/div[4]/form/div/input[13]')\n",
    "submit.click()\n",
    "time.sleep(5)"
   ]
  },
  {
   "cell_type": "code",
   "execution_count": null,
   "id": "5b756b25",
   "metadata": {},
   "outputs": [],
   "source": [
    "explore=driver.find_element(By.XPATH,'/html/body/div[1]/div[6]/div/div/div/div/div/aside/div[3]/div/a')\n",
    "explore.click()"
   ]
  },
  {
   "cell_type": "code",
   "execution_count": null,
   "id": "cd6ebd92",
   "metadata": {},
   "outputs": [],
   "source": [
    "trending=driver.find_element(By.XPATH,'/html/body/div[1]/div[6]/main/div[1]/nav/div/a[3]')\n",
    "trending.click()"
   ]
  },
  {
   "cell_type": "code",
   "execution_count": null,
   "id": "a6a335d6",
   "metadata": {},
   "outputs": [],
   "source": [
    "Repository_title=[]\n",
    "Repository_description=[] \n",
    "Contributors_count=[]\n",
    "Language_used=[]"
   ]
  },
  {
   "cell_type": "code",
   "execution_count": null,
   "id": "d429a12a",
   "metadata": {},
   "outputs": [],
   "source": [
    "title=driver.find_elements(By.XPATH,'//h2[@class=\"h3 lh-condensed\"]/a')\n",
    "for i in title:\n",
    "    try:\n",
    "        p=i.text\n",
    "        Repository_title.append(p)\n",
    "    except:\n",
    "        Repository_title.append('-')"
   ]
  },
  {
   "cell_type": "code",
   "execution_count": null,
   "id": "a29142bc",
   "metadata": {},
   "outputs": [],
   "source": [
    "description=driver.find_elements(By.XPATH,'//article[@class=\"Box-row\"]/p')\n",
    "for i in description:\n",
    "    try:\n",
    "        \n",
    "        p=i.text\n",
    "        Repository_description.append(p)\n",
    "    except:\n",
    "        Repository_description.append(\"-\")"
   ]
  },
  {
   "cell_type": "code",
   "execution_count": null,
   "id": "7b6c7b3d",
   "metadata": {},
   "outputs": [],
   "source": [
    "language=driver.find_elements(By.XPATH,'//span[@class=\"d-inline-block ml-0 mr-3\"]/span[2]')\n",
    "for i in language:\n",
    "    try:\n",
    "        s=i.text\n",
    "        Language_used.append(s)\n",
    "    except:\n",
    "        Language_used.append('-')"
   ]
  },
  {
   "cell_type": "code",
   "execution_count": null,
   "id": "92335462",
   "metadata": {},
   "outputs": [],
   "source": [
    "count=driver.find_elements(By.XPATH,'//div[@class=\"f6 color-fg-muted mt-2\"]/a[2]')\n",
    "for i in count:\n",
    "    r=i.text\n",
    "    Contributors_count.append(r)\n",
    "  "
   ]
  },
  {
   "cell_type": "code",
   "execution_count": null,
   "id": "2f46b992",
   "metadata": {},
   "outputs": [],
   "source": [
    "pd.DataFrame({'Repository_title':Repository_title,'Repository_description':Repository_description,'Contributors_count':Contributors_count,'Language_used':Language_used})"
   ]
  },
  {
   "cell_type": "markdown",
   "id": "20f73ec5",
   "metadata": {},
   "source": [
    "5. Scrape the details of top 100 songs on billiboard.com. Url = https:/www.billboard.com/ You have to find the following details:\n",
    "A) Song name\n",
    "B) Artist name\n",
    "C) Last week rank\n",
    "D) Peak rank\n",
    "E) Weeks on board\n",
    "Note: - From the home page you have to click on the charts option then hot 100-page link through code."
   ]
  },
  {
   "cell_type": "code",
   "execution_count": null,
   "id": "0d16f129",
   "metadata": {},
   "outputs": [],
   "source": [
    "driver=webdriver.Chrome()"
   ]
  },
  {
   "cell_type": "code",
   "execution_count": null,
   "id": "1b9c859c",
   "metadata": {},
   "outputs": [],
   "source": [
    "driver.get('https:/www.billboard.com/ ')"
   ]
  },
  {
   "cell_type": "code",
   "execution_count": null,
   "id": "ef3ad588",
   "metadata": {},
   "outputs": [],
   "source": [
    "billbord=driver.find_element(By.XPATH,'/html/body/div[3]/header/div/div[3]/div/nav/ul/li[1]/a')\n",
    "billbord.click()"
   ]
  },
  {
   "cell_type": "code",
   "execution_count": null,
   "id": "a7106886",
   "metadata": {},
   "outputs": [],
   "source": [
    "Song_name=[]\n",
    "Artist_name=[]\n",
    "Last_week_rank=[]\n",
    "Peak_rank=[]\n",
    "Weeks_on_board=[]"
   ]
  },
  {
   "cell_type": "code",
   "execution_count": null,
   "id": "e264b60e",
   "metadata": {},
   "outputs": [],
   "source": [
    "name=driver.find_elements(By.XPATH,'//li[@class=\"lrv-u-width-100p\"]/ul/li/h3')\n",
    "for i in name:\n",
    "    s=i.text\n",
    "    Song_name.append(s)"
   ]
  },
  {
   "cell_type": "code",
   "execution_count": null,
   "id": "27d7f400",
   "metadata": {},
   "outputs": [],
   "source": [
    "len(Weeks_on_board)"
   ]
  },
  {
   "cell_type": "code",
   "execution_count": null,
   "id": "01fb0b00",
   "metadata": {},
   "outputs": [],
   "source": [
    "artist=driver.find_elements(By.XPATH,'//li[@class=\"lrv-u-width-100p\"]/ul/li[1]/span[1]')\n",
    "for i in artist:\n",
    "    p=i.text\n",
    "    Artist_name.append(p)\n",
    "    "
   ]
  },
  {
   "cell_type": "code",
   "execution_count": null,
   "id": "cce7db0c",
   "metadata": {},
   "outputs": [],
   "source": [
    "rank=driver.find_elements(By.XPATH,'//li[@class=\"lrv-u-width-100p\"]/ul/li[4]/span[1]')\n",
    "for i in rank:\n",
    "    s=i.text\n",
    "    Last_week_rank.append(s)"
   ]
  },
  {
   "cell_type": "code",
   "execution_count": null,
   "id": "dcdc5bbf",
   "metadata": {},
   "outputs": [],
   "source": [
    "peak=driver.find_elements(By.XPATH,'//li[@class=\"lrv-u-width-100p\"]/ul/li[5]/span[1]')\n",
    "for i in peak:\n",
    "    q=i.text\n",
    "    Peak_rank.append(q)"
   ]
  },
  {
   "cell_type": "code",
   "execution_count": null,
   "id": "61fd3c8a",
   "metadata": {},
   "outputs": [],
   "source": [
    "weeks=driver.find_elements(By.XPATH,'//li[@class=\"lrv-u-width-100p\"]/ul/li[6]/span[1]')\n",
    "for i in weeks:\n",
    "    d=i.text\n",
    "    Weeks_on_board.append(d)"
   ]
  },
  {
   "cell_type": "code",
   "execution_count": null,
   "id": "559c2db1",
   "metadata": {},
   "outputs": [],
   "source": [
    "pd.DataFrame({'Song_name':Song_name,'Artist_name':Artist_name,'Last_week_rank':Last_week_rank,'Peak_rank':Peak_rank,'Weeks_on_board':Weeks_on_board})"
   ]
  },
  {
   "cell_type": "markdown",
   "id": "f5c867e2",
   "metadata": {},
   "source": [
    "6. Scrape the details of Highest selling novels.\n",
    "A) Book name\n",
    "B) Author name\n",
    "C) Volumes sold\n",
    "D) Publisher\n",
    "E) Genre\n",
    "Url - https://www.theguardian.com/news/datablog/2012/aug/09/best-selling-books-all-time-fifty-shades-grey-compare"
   ]
  },
  {
   "cell_type": "code",
   "execution_count": null,
   "id": "7ade26ff",
   "metadata": {},
   "outputs": [],
   "source": [
    "driver=webdriver.Chrome()"
   ]
  },
  {
   "cell_type": "code",
   "execution_count": null,
   "id": "2dacdfb1",
   "metadata": {},
   "outputs": [],
   "source": [
    "driver.get('https://www.theguardian.com/news/datablog/2012/aug/09/best-selling-books-all-time-fifty-shades-grey-compare')"
   ]
  },
  {
   "cell_type": "code",
   "execution_count": null,
   "id": "3817b07d",
   "metadata": {},
   "outputs": [],
   "source": [
    "Book_Name=[]\n",
    "Author_Name=[]\n",
    "Volumes_sold=[]\n",
    "Publisher=[]\n",
    "Genre=[]"
   ]
  },
  {
   "cell_type": "code",
   "execution_count": null,
   "id": "32089d60",
   "metadata": {},
   "outputs": [],
   "source": [
    "name=driver.find_elements(By.XPATH,'//table[@class=\"in-article sortable\"]/tbody/tr/td[2]')\n",
    "for i in name:\n",
    "    r=i.text\n",
    "    Book_Name.append(r)"
   ]
  },
  {
   "cell_type": "code",
   "execution_count": null,
   "id": "16429d32",
   "metadata": {},
   "outputs": [],
   "source": [
    "author=driver.find_elements(By.XPATH,'//table[@class=\"in-article sortable\"]/tbody/tr/td[3]')\n",
    "for i in author:\n",
    "    s=i.text\n",
    "    Author_Name.append(r)"
   ]
  },
  {
   "cell_type": "code",
   "execution_count": null,
   "id": "a44af9e9",
   "metadata": {},
   "outputs": [],
   "source": [
    "sold=driver.find_elements(By.XPATH,'//table[@class=\"in-article sortable\"]/tbody/tr/td[4]')\n",
    "for i in sold:\n",
    "    s=i.text\n",
    "    Volumes_sold.append(r)"
   ]
  },
  {
   "cell_type": "code",
   "execution_count": null,
   "id": "a815ce8b",
   "metadata": {},
   "outputs": [],
   "source": [
    "publisher=driver.find_elements(By.XPATH,'//table[@class=\"in-article sortable\"]/tbody/tr/td[5]')\n",
    "for i in publisher:\n",
    "    p=i.text\n",
    "    Publisher.append(p)"
   ]
  },
  {
   "cell_type": "code",
   "execution_count": null,
   "id": "83d2c3b3",
   "metadata": {},
   "outputs": [],
   "source": [
    "genre=driver.find_elements(By.XPATH,'//table[@class=\"in-article sortable\"]/tbody/tr/td[6]')\n",
    "for i in genre:\n",
    "    p=i.text\n",
    "    Genre.append(p)"
   ]
  },
  {
   "cell_type": "code",
   "execution_count": null,
   "id": "6fd6f7cc",
   "metadata": {},
   "outputs": [],
   "source": [
    "pd.DataFrame({'Book_Name':Book_Name,'Author_Name':Author_Name,'Volumes_sold':Volumes_sold,\"Publisher\":Publisher,'Genre':Genre})"
   ]
  },
  {
   "cell_type": "markdown",
   "id": "0022de7a",
   "metadata": {},
   "source": [
    "8. Details of Datasets from UCI machine learning repositories.\n",
    "Url = https://archive.ics.uci.edu/ You have to find the following details:\n",
    "A) Dataset name\n",
    "B) Data type\n",
    "C) Task\n",
    "D) Attribute type\n",
    "E) No of instances\n",
    "F) No of attribute G) Year\n",
    "Note: - from the home page you have to go to the Show All Dataset page through code."
   ]
  },
  {
   "cell_type": "code",
   "execution_count": null,
   "id": "3ff83e65",
   "metadata": {},
   "outputs": [],
   "source": [
    "driver=webdriver.Chrome()\n"
   ]
  },
  {
   "cell_type": "code",
   "execution_count": null,
   "id": "940a5c3a",
   "metadata": {},
   "outputs": [],
   "source": [
    "driver.get(' https://archive.ics.uci.edu/')"
   ]
  },
  {
   "cell_type": "code",
   "execution_count": null,
   "id": "ea618786",
   "metadata": {},
   "outputs": [],
   "source": [
    "seeall=driver.find_element(By.XPATH,'/html/body/div/div[1]/div[1]/main/div/div[2]/section[1]/div[2]/a')\n",
    "seeall.click()"
   ]
  },
  {
   "cell_type": "code",
   "execution_count": null,
   "id": "01d93ebf",
   "metadata": {},
   "outputs": [],
   "source": [
    "start=0\n",
    "end=3\n",
    "for page in range(start,end):\n",
    "    name=driver.find_elements(By.XPATH,'//div[@class=\"relative col-span-8 sm:col-span-7\"]/h2/a')\n",
    "    for i in name:\n",
    "        p=i.text\n",
    "        Dataset_name.append(p)\n",
    "    dtype=driver.find_elements(By.XPATH,'//div[@class=\"my-2 hidden gap-4 md:grid grid-cols-12\"]/div[2]/span')\n",
    "    for i in dtype:\n",
    "        s=i.text\n",
    "        Data_type.append(s)\n",
    "    task=driver.find_elements(By.XPATH,'//div[@class=\"my-2 hidden gap-4 md:grid grid-cols-12\"]/div[1]/span')\n",
    "    for i in task:\n",
    "        k=i.text\n",
    "        Task.append(k)\n",
    "    atype=driver.find_elements(By.XPATH,'//div[@class=\"grid grid-cols-8 overflow-x-auto\"]/table/tbody/td[2]')\n",
    "    for i in atype:\n",
    "        d=i.text\n",
    "        Attribute_type.append(d)\n",
    "    ins=driver.find_elements(By.XPATH,'/html/body/div/div[1]/div[1]/main/div/div[2]/div[2]/div[1]/div[1]/div[2]/div/div[3]/span')\n",
    "    for i in ins:\n",
    "        f=i.text\n",
    "        No_of_instances.append(f)\n",
    "    att=driver.find_elements(By.XPATH,'/html/body/div/div[1]/div[1]/main/div/div[2]/div[2]/div[1]/div[2]/div/table/tbody/tr/td[3]')\n",
    "    for i in att:\n",
    "        g=i.text\n",
    "        No_of_attribute.append(g)\n",
    "nextbutton=driver.find_element(By.XPATH,'/html/body/div/div[1]/div[1]/main/div/div[2]/div[3]/div/button[2]/svg')\n",
    "nextbutton.click()"
   ]
  },
  {
   "cell_type": "code",
   "execution_count": null,
   "id": "70be76ae",
   "metadata": {},
   "outputs": [],
   "source": [
    "Dataset_name=[]\n",
    "Data_type=[]\n",
    "Task=[]\n",
    "Attribute_type=[]\n",
    "No_of_instances=[]\n",
    "No_of_attribute=[] \n",
    "Year=[]"
   ]
  },
  {
   "cell_type": "code",
   "execution_count": null,
   "id": "abf12595",
   "metadata": {},
   "outputs": [],
   "source": [
    "pd.DataFrame({'Dataset_name':Dataset_name,'Data_type':Data_type,'Task':Task,'Attribute_type':Attribute_type,'No_of_instances':No_of_instances,'No_of_attribute':No_of_attribute})"
   ]
  },
  {
   "cell_type": "code",
   "execution_count": null,
   "id": "d0dc8f29",
   "metadata": {},
   "outputs": [],
   "source": []
  },
  {
   "cell_type": "code",
   "execution_count": null,
   "id": "ac38cd69",
   "metadata": {},
   "outputs": [],
   "source": []
  }
 ],
 "metadata": {
  "kernelspec": {
   "display_name": "Python 3 (ipykernel)",
   "language": "python",
   "name": "python3"
  },
  "language_info": {
   "codemirror_mode": {
    "name": "ipython",
    "version": 3
   },
   "file_extension": ".py",
   "mimetype": "text/x-python",
   "name": "python",
   "nbconvert_exporter": "python",
   "pygments_lexer": "ipython3",
   "version": "3.11.4"
  }
 },
 "nbformat": 4,
 "nbformat_minor": 5
}
